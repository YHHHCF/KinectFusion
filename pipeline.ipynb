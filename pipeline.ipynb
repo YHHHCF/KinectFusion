{
 "cells": [
  {
   "cell_type": "code",
   "execution_count": 1,
   "id": "a5d74652",
   "metadata": {},
   "outputs": [],
   "source": [
    "import open3d as o3d\n",
    "import numpy as np\n",
    "import sys\n",
    "\n",
    "sys.path.append('./data/')\n",
    "from camera import *\n",
    "from dataloader import *\n",
    "\n",
    "sys.path.append('./algorithm/')\n",
    "from measurement import *\n",
    "from pose import *\n",
    "from update import *\n",
    "from prediction import *\n",
    "\n",
    "from pipeline import *\n",
    "\n",
    "import matplotlib.pyplot as plt"
   ]
  },
  {
   "cell_type": "code",
   "execution_count": 2,
   "id": "03fc48c0",
   "metadata": {},
   "outputs": [
    {
     "name": "stdout",
     "output_type": "stream",
     "text": [
      "KinectFusion pipeline total frame number: 798\n"
     ]
    }
   ],
   "source": [
    "kf = KinectFusion()"
   ]
  },
  {
   "cell_type": "code",
   "execution_count": 3,
   "id": "7f7713e5",
   "metadata": {},
   "outputs": [
    {
     "name": "stdout",
     "output_type": "stream",
     "text": [
      "Running frame: 0\n"
     ]
    }
   ],
   "source": [
    "kf.first_frame()"
   ]
  },
  {
   "cell_type": "code",
   "execution_count": 4,
   "id": "245b0c0a",
   "metadata": {},
   "outputs": [],
   "source": [
    "depth = kf.get_depth_map()\n",
    "depth_numpy = np.asarray(depth)\n",
    "depth_numpy = depth_numpy.reshape(depth_numpy.shape[:2])"
   ]
  },
  {
   "cell_type": "code",
   "execution_count": 5,
   "id": "cb49a6f1",
   "metadata": {},
   "outputs": [],
   "source": [
    "kf.curr_point_cloud = point_cloud_from_depth(depth_numpy, kf.camera)"
   ]
  },
  {
   "cell_type": "code",
   "execution_count": 6,
   "id": "12f0c1b2",
   "metadata": {},
   "outputs": [],
   "source": [
    "prev_points = np.asarray(kf.prev_point_cloud.points)"
   ]
  },
  {
   "cell_type": "code",
   "execution_count": 7,
   "id": "cf1a7197",
   "metadata": {},
   "outputs": [],
   "source": [
    "curr_points = np.asarray(kf.curr_point_cloud.points)"
   ]
  },
  {
   "cell_type": "code",
   "execution_count": 8,
   "id": "5e0bcdca",
   "metadata": {},
   "outputs": [
    {
     "name": "stdout",
     "output_type": "stream",
     "text": [
      "0.31065216969356885\n"
     ]
    }
   ],
   "source": [
    "print(np.mean(prev_points))"
   ]
  },
  {
   "cell_type": "code",
   "execution_count": 9,
   "id": "bfd8ca05",
   "metadata": {},
   "outputs": [
    {
     "name": "stdout",
     "output_type": "stream",
     "text": [
      "0.30966519374999996\n"
     ]
    }
   ],
   "source": [
    "print(np.mean(curr_points))"
   ]
  },
  {
   "cell_type": "code",
   "execution_count": 22,
   "id": "04dae71e",
   "metadata": {},
   "outputs": [
    {
     "data": {
      "text/plain": [
       "4984.114452756881"
      ]
     },
     "execution_count": 22,
     "metadata": {},
     "output_type": "execute_result"
    }
   ],
   "source": []
  },
  {
   "cell_type": "code",
   "execution_count": null,
   "id": "00b2fe64",
   "metadata": {},
   "outputs": [],
   "source": []
  }
 ],
 "metadata": {
  "kernelspec": {
   "display_name": "Python 3 (ipykernel)",
   "language": "python",
   "name": "python3"
  },
  "language_info": {
   "codemirror_mode": {
    "name": "ipython",
    "version": 3
   },
   "file_extension": ".py",
   "mimetype": "text/x-python",
   "name": "python",
   "nbconvert_exporter": "python",
   "pygments_lexer": "ipython3",
   "version": "3.9.13"
  }
 },
 "nbformat": 4,
 "nbformat_minor": 5
}
