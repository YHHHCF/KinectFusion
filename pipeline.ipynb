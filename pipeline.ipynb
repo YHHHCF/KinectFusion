{
 "cells": [
  {
   "cell_type": "code",
   "execution_count": 1,
   "id": "a5d74652",
   "metadata": {},
   "outputs": [],
   "source": [
    "# !pip install open3d\n",
    "import open3d as o3d\n",
    "import numpy as np\n",
    "import sys\n",
    "\n",
    "sys.path.append('./data/')\n",
    "from camera import *\n",
    "from dataloader import *\n",
    "\n",
    "sys.path.append('./algorithm/')\n",
    "from measurement import *\n",
    "from pose import *\n",
    "from update import *\n",
    "from prediction import *\n",
    "\n",
    "from pipeline import *\n",
    "\n",
    "import matplotlib.pyplot as plt\n",
    "import time"
   ]
  },
  {
   "cell_type": "code",
   "execution_count": 3,
   "id": "93cfcaeb",
   "metadata": {},
   "outputs": [
    {
     "name": "stdout",
     "output_type": "stream",
     "text": [
      "/Users/erbao/Study/cs231a/project/KinectFusion/eval\n"
     ]
    }
   ],
   "source": [
    "%cd eval"
   ]
  },
  {
   "cell_type": "code",
   "execution_count": 7,
   "id": "b46c5f20",
   "metadata": {},
   "outputs": [
    {
     "name": "stderr",
     "output_type": "stream",
     "text": [
      "UsageError: %%python is a cell magic, but the cell body is empty.\n"
     ]
    }
   ],
   "source": [
    "%%python evaluate_ate.py ../data/dataset/rgbd_dataset_freiburg3_cabinet/groundtruth.txt ../results/trajectory.txt --plot ../results/ate.png"
   ]
  },
  {
   "cell_type": "code",
   "execution_count": null,
   "id": "1da517a6",
   "metadata": {},
   "outputs": [
    {
     "name": "stdout",
     "output_type": "stream",
     "text": [
      "PointCloud on CPU:0 [533549 points (Float32)].\n",
      "Attributes: normals (dtype = Float32, shape = {533549, 3}).\n",
      "FEngine (64 bits) created at 0x7fc46b800000 (threading is enabled)\n",
      "FEngine resolved backend: OpenGL\n"
     ]
    },
    {
     "name": "stderr",
     "output_type": "stream",
     "text": [
      "[error] GLFW error: Cocoa: Failed to find service port for display\n"
     ]
    }
   ],
   "source": [
    "vbg = o3d.t.geometry.VoxelBlockGrid.load('./results/TSDF.npz')\n",
    "visualize_vbg_o3d(vbg, 180, 0, 0)"
   ]
  },
  {
   "cell_type": "code",
   "execution_count": null,
   "id": "4d97bdcc",
   "metadata": {},
   "outputs": [],
   "source": []
  }
 ],
 "metadata": {
  "kernelspec": {
   "display_name": "Python 3 (ipykernel)",
   "language": "python",
   "name": "python3"
  },
  "language_info": {
   "codemirror_mode": {
    "name": "ipython",
    "version": 3
   },
   "file_extension": ".py",
   "mimetype": "text/x-python",
   "name": "python",
   "nbconvert_exporter": "python",
   "pygments_lexer": "ipython3",
   "version": "3.9.13"
  }
 },
 "nbformat": 4,
 "nbformat_minor": 5
}
