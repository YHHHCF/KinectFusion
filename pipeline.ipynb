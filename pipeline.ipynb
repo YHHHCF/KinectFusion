{
 "cells": [
  {
   "cell_type": "code",
   "execution_count": 2,
   "id": "a5d74652",
   "metadata": {},
   "outputs": [],
   "source": [
    "# !pip install open3d\n",
    "import open3d as o3d\n",
    "import numpy as np\n",
    "import sys\n",
    "\n",
    "sys.path.append('./data/')\n",
    "from camera import *\n",
    "from dataloader import *\n",
    "\n",
    "sys.path.append('./algorithm/')\n",
    "from measurement import *\n",
    "from pose import *\n",
    "from update import *\n",
    "from prediction import *\n",
    "\n",
    "from pipeline import *\n",
    "\n",
    "import matplotlib.pyplot as plt\n",
    "import time"
   ]
  },
  {
   "cell_type": "code",
   "execution_count": null,
   "id": "5213c8d5",
   "metadata": {},
   "outputs": [
    {
     "name": "stdout",
     "output_type": "stream",
     "text": [
      "PointCloud on CPU:0 [1690119 points (Float32)].\n",
      "Attributes: normals (dtype = Float32, shape = {1690119, 3}).\n"
     ]
    }
   ],
   "source": [
    "vbg = o3d.t.geometry.VoxelBlockGrid.load('./results/rgbd_dataset_freiburg3_walking_static/TSDF_300.npz')\n",
    "visualize_vbg_o3d(vbg, 180, 0, 0)"
   ]
  },
  {
   "cell_type": "code",
   "execution_count": null,
   "id": "07fb7507",
   "metadata": {},
   "outputs": [],
   "source": []
  }
 ],
 "metadata": {
  "kernelspec": {
   "display_name": "Python 3 (ipykernel)",
   "language": "python",
   "name": "python3"
  },
  "language_info": {
   "codemirror_mode": {
    "name": "ipython",
    "version": 3
   },
   "file_extension": ".py",
   "mimetype": "text/x-python",
   "name": "python",
   "nbconvert_exporter": "python",
   "pygments_lexer": "ipython3",
   "version": "3.9.13"
  }
 },
 "nbformat": 4,
 "nbformat_minor": 5
}
