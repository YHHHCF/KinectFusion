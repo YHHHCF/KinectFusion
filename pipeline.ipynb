{
 "cells": [
  {
   "cell_type": "code",
   "execution_count": 1,
   "id": "a5d74652",
   "metadata": {},
   "outputs": [],
   "source": [
    "# !pip install open3d\n",
    "import open3d as o3d\n",
    "import numpy as np\n",
    "import sys\n",
    "\n",
    "sys.path.append('./data/')\n",
    "from camera import *\n",
    "from dataloader import *\n",
    "\n",
    "sys.path.append('./algorithm/')\n",
    "from measurement import *\n",
    "from pose import *\n",
    "from update import *\n",
    "from prediction import *\n",
    "\n",
    "from pipeline import *\n",
    "\n",
    "import matplotlib.pyplot as plt\n",
    "import time"
   ]
  },
  {
   "cell_type": "code",
   "execution_count": null,
   "id": "004b834c",
   "metadata": {},
   "outputs": [
    {
     "name": "stdout",
     "output_type": "stream",
     "text": [
      "PointCloud on CPU:0 [3607538 points (Float32)].\n",
      "Attributes: normals (dtype = Float32, shape = {3607538, 3}).\n"
     ]
    },
    {
     "name": "stderr",
     "output_type": "stream",
     "text": [
      "[error] GLFW error: Cocoa: Failed to find service port for display\n",
      "[error] GLFW error: Cocoa: Failed to find service port for display\n",
      "[error] GLFW error: Cocoa: Failed to find service port for display\n",
      "[error] GLFW error: Cocoa: Failed to find service port for display\n",
      "[error] GLFW error: Cocoa: Failed to find service port for display\n",
      "[error] GLFW error: Cocoa: Failed to find service port for display\n",
      "[error] GLFW error: Cocoa: Failed to find service port for display\n"
     ]
    }
   ],
   "source": [
    "vbg = o3d.t.geometry.VoxelBlockGrid.load('./results/TSDF_1050.npz')\n",
    "visualize_vbg_o3d(vbg, 180, 0, 0)"
   ]
  },
  {
   "cell_type": "code",
   "execution_count": null,
   "id": "5162e03e",
   "metadata": {},
   "outputs": [],
   "source": []
  }
 ],
 "metadata": {
  "kernelspec": {
   "display_name": "Python 3 (ipykernel)",
   "language": "python",
   "name": "python3"
  },
  "language_info": {
   "codemirror_mode": {
    "name": "ipython",
    "version": 3
   },
   "file_extension": ".py",
   "mimetype": "text/x-python",
   "name": "python",
   "nbconvert_exporter": "python",
   "pygments_lexer": "ipython3",
   "version": "3.9.13"
  }
 },
 "nbformat": 4,
 "nbformat_minor": 5
}
